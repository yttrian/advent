{
 "cells": [
  {
   "cell_type": "code",
   "metadata": {
    "collapsed": true
   },
   "source": [
    "import kotlin.io.path.Path\n",
    "import kotlin.io.path.readLines\n",
    "\n",
    "val input = Path(\"Day04.txt\").readLines()"
   ],
   "outputs": [],
   "execution_count": null
  },
  {
   "metadata": {},
   "cell_type": "code",
   "source": "val grid = input.map { it.toList() }",
   "outputs": [],
   "execution_count": null
  },
  {
   "metadata": {},
   "cell_type": "code",
   "source": [
    "data class Point(val x: Int, val y: Int)\n",
    "operator fun Point.plus(other: Point) = Point(x + other.x, y + other.y)"
   ],
   "outputs": [],
   "execution_count": null
  },
  {
   "metadata": {},
   "cell_type": "code",
   "source": "fun List<List<Char>>.get(point: Point): Char? = getOrNull(point.y)?.getOrNull(point.x)",
   "outputs": [],
   "execution_count": null
  },
  {
   "metadata": {},
   "cell_type": "code",
   "source": [
    "fun directions(x: Boolean = false) = sequence {\n",
    "    for (i in -1..1) {\n",
    "        for (j in -1 .. 1) {\n",
    "            // If X, only return corners, otherwise return everything including (0, 0) because why not\n",
    "            if (!x || (i != 0 && j != 0)) {\n",
    "                yield(Point(i, j))\n",
    "            }\n",
    "        }\n",
    "    }\n",
    "}"
   ],
   "outputs": [],
   "execution_count": null
  },
  {
   "metadata": {},
   "cell_type": "code",
   "source": [
    "// Part 1\n",
    "tailrec fun look(point: Point, direction: Point, need: String): Boolean = when {\n",
    "    // Look finished successfully!\n",
    "    need.isEmpty() -> true\n",
    "\n",
    "    // Keep looking recursively\n",
    "    grid.get(point) == need.first() -> look(point + direction, direction, need.drop(1))\n",
    "\n",
    "    // No match\n",
    "    else -> false\n",
    "}\n",
    "\n",
    "grid.withIndex().sumOf { (y, row) ->\n",
    "    row.withIndex().sumOf {(x, _) ->\n",
    "        directions().count { direction ->\n",
    "            // Look in all directions and count if XMAS is found\n",
    "            look(Point(x, y), direction, \"XMAS\")\n",
    "        }\n",
    "    }\n",
    "}"
   ],
   "outputs": [],
   "execution_count": null
  },
  {
   "metadata": {},
   "cell_type": "code",
   "source": [
    "// Part 2\n",
    "fun checkMas(point: Point): Boolean {\n",
    "    // Pull letters in the X\n",
    "    val pulled = directions(x = true).map { direction ->\n",
    "        grid.get(point + direction)\n",
    "    }.toList()\n",
    "\n",
    "    // The X must only contain M and S\n",
    "    val onlyCorrectLetters = pulled.all { it == 'M' || it == 'S' }\n",
    "\n",
    "    // Opposite sides cannot match (SAS, MAM)\n",
    "    val oppositesAreDifferent = pulled[0] != pulled[3] && pulled[1] !== pulled[2]\n",
    "\n",
    "    // Count if X-MAS\n",
    "    return onlyCorrectLetters && oppositesAreDifferent\n",
    "}\n",
    "\n",
    "grid.withIndex().sumOf { (y, row) ->\n",
    "    row.withIndex().count { (x, cell) ->\n",
    "        if (cell == 'A') checkMas(Point(x, y)) else false\n",
    "    }\n",
    "}"
   ],
   "outputs": [],
   "execution_count": null
  }
 ],
 "metadata": {
  "kernelspec": {
   "display_name": "Kotlin",
   "language": "kotlin",
   "name": "kotlin"
  },
  "language_info": {
   "name": "kotlin",
   "version": "1.9.23",
   "mimetype": "text/x-kotlin",
   "file_extension": ".kt",
   "pygments_lexer": "kotlin",
   "codemirror_mode": "text/x-kotlin",
   "nbconvert_exporter": ""
  }
 },
 "nbformat": 4,
 "nbformat_minor": 0
}
