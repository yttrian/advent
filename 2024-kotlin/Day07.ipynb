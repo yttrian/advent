{
 "cells": [
  {
   "cell_type": "code",
   "metadata": {
    "collapsed": true
   },
   "source": [
    "import kotlin.io.path.Path\n",
    "import kotlin.io.path.readLines\n",
    "\n",
    "val input = Path(\"Day07.txt\").readLines()"
   ],
   "outputs": [],
   "execution_count": null
  },
  {
   "metadata": {},
   "cell_type": "code",
   "source": [
    "data class Calibration(val target: Long, val numbers: List<Int>)\n",
    "fun Calibration.next() = Calibration(target, numbers.drop(1))"
   ],
   "outputs": [],
   "execution_count": null
  },
  {
   "metadata": {},
   "cell_type": "code",
   "source": [
    "val calibrations = input.map { line ->\n",
    "    val (result, numbers) = line.split(\": \")\n",
    "\n",
    "    Calibration(result.toLong(), numbers.split(\" \").map { it.toInt() })\n",
    "}"
   ],
   "outputs": [],
   "execution_count": null
  },
  {
   "metadata": {},
   "cell_type": "code",
   "source": [
    "fun tryReduce(calibration: Calibration, result: Long = 0, allowConcat: Boolean = false): Boolean = when {\n",
    "    calibration.numbers.isEmpty() -> calibration.target == result\n",
    "\n",
    "    else -> {\n",
    "        val now = calibration.numbers.first()\n",
    "        val next = calibration.next()\n",
    "\n",
    "        val isSum = tryReduce(next, result + now, allowConcat)\n",
    "        val isMul = tryReduce(next, result * now, allowConcat)\n",
    "        val isCon = if (allowConcat) tryReduce(next, \"$result$now\".toLong(), allowConcat) else false\n",
    "\n",
    "        isSum || isMul || isCon\n",
    "    }\n",
    "}"
   ],
   "outputs": [],
   "execution_count": null
  },
  {
   "metadata": {},
   "cell_type": "code",
   "source": [
    "// Part 1\n",
    "calibrations.filter { tryReduce(it) }.sumOf { it.target }"
   ],
   "outputs": [],
   "execution_count": null
  },
  {
   "metadata": {},
   "cell_type": "code",
   "source": [
    "// Part 2\n",
    "calibrations.filter { tryReduce(it, allowConcat = true) }.sumOf { it.target }"
   ],
   "outputs": [],
   "execution_count": null
  }
 ],
 "metadata": {
  "kernelspec": {
   "display_name": "Kotlin",
   "language": "kotlin",
   "name": "kotlin"
  },
  "language_info": {
   "name": "kotlin",
   "version": "1.9.23",
   "mimetype": "text/x-kotlin",
   "file_extension": ".kt",
   "pygments_lexer": "kotlin",
   "codemirror_mode": "text/x-kotlin",
   "nbconvert_exporter": ""
  }
 },
 "nbformat": 4,
 "nbformat_minor": 0
}
