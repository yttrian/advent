{
 "cells": [
  {
   "cell_type": "code",
   "metadata": {
    "collapsed": true
   },
   "source": [
    "import kotlin.io.path.Path\n",
    "import kotlin.io.path.readLines\n",
    "\n",
    "val input = Path(\"Day07.txt\").readLines()"
   ],
   "outputs": [],
   "execution_count": null
  },
  {
   "metadata": {},
   "cell_type": "code",
   "source": [
    "data class Calibration(val target: Long, val numbers: List<Int>)\n",
    "fun Calibration.next() = copy(numbers = numbers.drop(1))"
   ],
   "outputs": [],
   "execution_count": null
  },
  {
   "metadata": {},
   "cell_type": "code",
   "source": [
    "val calibrations = input.map { line ->\n",
    "    val (result, numbers) = line.split(\": \")\n",
    "\n",
    "    Calibration(result.toLong(), numbers.split(\" \").map { it.toInt() })\n",
    "}"
   ],
   "outputs": [],
   "execution_count": null
  },
  {
   "metadata": {},
   "cell_type": "code",
   "source": "typealias Operator = (result: Long, number: Int) -> Long",
   "outputs": [],
   "execution_count": null
  },
  {
   "metadata": {},
   "cell_type": "code",
   "source": [
    "fun makeTryReduce(vararg operators: Operator): (Calibration) -> Boolean {\n",
    "    // Higher-order function time!\n",
    "    fun tryReduce(calibration: Calibration, result: Long = 0): Boolean = when {\n",
    "        // Too high\n",
    "        result > calibration.target -> false\n",
    "\n",
    "        // Done, but correct?\n",
    "        calibration.numbers.isEmpty() -> calibration.target == result\n",
    "\n",
    "        // Try all operators\n",
    "        else -> operators.any { op ->\n",
    "            tryReduce(calibration.next(), op(result, calibration.numbers.first()))\n",
    "        }\n",
    "    }\n",
    "\n",
    "    return { tryReduce(it) }\n",
    "}"
   ],
   "outputs": [],
   "execution_count": null
  },
  {
   "metadata": {},
   "cell_type": "code",
   "source": [
    "// Part 1\n",
    "calibrations.filter(makeTryReduce(Long::plus, Long::times)).sumOf { it.target }"
   ],
   "outputs": [],
   "execution_count": null
  },
  {
   "metadata": {},
   "cell_type": "code",
   "source": [
    "// Part 2\n",
    "val concat: Operator = { result, number -> \"$result$number\".toLong() }\n",
    "calibrations.filter(makeTryReduce(Long::plus, Long::times, concat)).sumOf { it.target }"
   ],
   "outputs": [],
   "execution_count": null
  }
 ],
 "metadata": {
  "kernelspec": {
   "display_name": "Kotlin",
   "language": "kotlin",
   "name": "kotlin"
  },
  "language_info": {
   "name": "kotlin",
   "version": "1.9.23",
   "mimetype": "text/x-kotlin",
   "file_extension": ".kt",
   "pygments_lexer": "kotlin",
   "codemirror_mode": "text/x-kotlin",
   "nbconvert_exporter": ""
  }
 },
 "nbformat": 4,
 "nbformat_minor": 0
}
