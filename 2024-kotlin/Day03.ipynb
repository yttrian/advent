{
 "cells": [
  {
   "cell_type": "code",
   "metadata": {
    "collapsed": true
   },
   "source": [
    "import kotlin.io.path.Path\n",
    "import kotlin.io.path.readLines\n",
    "import kotlin.io.path.readText\n",
    "\n",
    "val input = Path(\"Day03.txt\").readText()"
   ],
   "outputs": [],
   "execution_count": null
  },
  {
   "metadata": {},
   "cell_type": "code",
   "source": [
    "fun findMulAndSum(instructions: String): Int {\n",
    "    val mulRegex = Regex(\"mul\\\\((\\\\d+),(\\\\d+)\\\\)\")\n",
    "\n",
    "    return mulRegex.findAll(instructions).sumOf { mul ->\n",
    "        mul.groupValues[1].toInt() * mul.groupValues[2].toInt()\n",
    "    }\n",
    "}"
   ],
   "outputs": [],
   "execution_count": null
  },
  {
   "metadata": {},
   "cell_type": "code",
   "source": [
    "// Part 1\n",
    "findMulAndSum(input)"
   ],
   "outputs": [],
   "execution_count": null
  },
  {
   "metadata": {},
   "cell_type": "code",
   "source": [
    "fun removeDoNot(instructions: String): String {\n",
    "    val removeRegex = Regex(\"don't\\\\(\\\\).*?(do\\\\(\\\\)|$)\", RegexOption.DOT_MATCHES_ALL)\n",
    "\n",
    "    return instructions.replace(removeRegex, \"\")\n",
    "}"
   ],
   "outputs": [],
   "execution_count": null
  },
  {
   "metadata": {},
   "cell_type": "code",
   "source": [
    "// Part 2\n",
    "findMulAndSum(removeDoNot(input))"
   ],
   "outputs": [],
   "execution_count": null
  }
 ],
 "metadata": {
  "kernelspec": {
   "display_name": "Kotlin",
   "language": "kotlin",
   "name": "kotlin"
  },
  "language_info": {
   "name": "kotlin",
   "version": "1.9.23",
   "mimetype": "text/x-kotlin",
   "file_extension": ".kt",
   "pygments_lexer": "kotlin",
   "codemirror_mode": "text/x-kotlin",
   "nbconvert_exporter": ""
  }
 },
 "nbformat": 4,
 "nbformat_minor": 0
}
