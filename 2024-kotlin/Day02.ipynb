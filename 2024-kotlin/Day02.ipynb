{
 "cells": [
  {
   "cell_type": "code",
   "metadata": {
    "collapsed": true
   },
   "source": [
    "import kotlin.io.path.Path\n",
    "import kotlin.io.path.readLines\n",
    "\n",
    "val input = Path(\"Day02.txt\").readLines()"
   ],
   "outputs": [],
   "execution_count": null
  },
  {
   "metadata": {},
   "cell_type": "code",
   "source": "val reports = input.map { it.split(' ').map(String::toInt) }",
   "outputs": [],
   "execution_count": null
  },
  {
   "metadata": {},
   "cell_type": "code",
   "source": [
    "fun isSafe(report: List<Int>): Boolean {\n",
    "    val diffs = report.windowed(2).map { (a, b) -> a - b }\n",
    "    val allIncreasing = diffs.all { it > 0 }\n",
    "    val allDecreasing = diffs.all { it < 0 }\n",
    "    val belowMax = diffs.all { abs(it) <= 3 }\n",
    "\n",
    "    return (allIncreasing || allDecreasing) && belowMax\n",
    "}"
   ],
   "outputs": [],
   "execution_count": null
  },
  {
   "metadata": {},
   "cell_type": "code",
   "source": [
    "// Part 1\n",
    "reports.count { isSafe(it) }"
   ],
   "outputs": [],
   "execution_count": null
  },
  {
   "metadata": {},
   "cell_type": "code",
   "source": [
    "fun canBeSafe(report: List<Int>): Boolean {\n",
    "    repeat(report.size) { removeIndex ->\n",
    "        val without = report.filterIndexed { index, _ -> index != removeIndex }\n",
    "\n",
    "        if (isSafe(without)) {\n",
    "            return true\n",
    "        }\n",
    "    }\n",
    "    return false\n",
    "}"
   ],
   "outputs": [],
   "execution_count": null
  },
  {
   "metadata": {},
   "cell_type": "code",
   "source": [
    "// Part 2\n",
    "reports.count { canBeSafe(it) }"
   ],
   "outputs": [],
   "execution_count": null
  }
 ],
 "metadata": {
  "kernelspec": {
   "display_name": "Kotlin",
   "language": "kotlin",
   "name": "kotlin"
  },
  "language_info": {
   "name": "kotlin",
   "version": "1.9.23",
   "mimetype": "text/x-kotlin",
   "file_extension": ".kt",
   "pygments_lexer": "kotlin",
   "codemirror_mode": "text/x-kotlin",
   "nbconvert_exporter": ""
  }
 },
 "nbformat": 4,
 "nbformat_minor": 0
}
