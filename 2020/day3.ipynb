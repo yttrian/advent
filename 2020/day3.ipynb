{
 "cells": [
  {
   "cell_type": "markdown",
   "metadata": {},
   "source": [
    "# Advent of Code Day 3"
   ]
  },
  {
   "cell_type": "code",
   "metadata": {},
   "source": [
    "import java.io.*"
   ],
   "outputs": [],
   "execution_count": null
  },
  {
   "cell_type": "code",
   "metadata": {},
   "source": [
    "class WrapList<T>(val list: List<T>) : List<T> by list {\n",
    "    override operator fun get(index: Int): T = list[index.rem(this.size)]\n",
    "    override fun toString() = list.toString()\n",
    "}\n",
    "\n",
    "fun <T> List<T>.asWrap() = WrapList(this)"
   ],
   "outputs": [],
   "execution_count": null
  },
  {
   "cell_type": "code",
   "metadata": {},
   "source": [
    "val day3 = File(\"day3.txt\").readLines().map {\n",
    "    it.map { c -> c == '#' }.asWrap()\n",
    "}\n",
    "day3.joinToString(limit = 5)"
   ],
   "outputs": [],
   "execution_count": null
  },
  {
   "cell_type": "code",
   "metadata": {},
   "source": [
    "fun stops(right: Int, down: Int = 1) = day3.foldIndexed(0.toLong()) { idx, hits, row ->\n",
    "    if (idx.rem(down) == 0 && row[(idx / down) * right]) hits + 1 else hits\n",
    "}"
   ],
   "outputs": [],
   "execution_count": null
  },
  {
   "cell_type": "code",
   "metadata": {},
   "source": [
    "stops(3)"
   ],
   "outputs": [],
   "execution_count": null
  },
  {
   "cell_type": "code",
   "metadata": {},
   "source": [
    "stops(1) * stops(3) * stops(5) * stops(7) * stops(1, 2)"
   ],
   "outputs": [],
   "execution_count": null
  },
  {
   "cell_type": "code",
   "metadata": {},
   "source": [],
   "outputs": [],
   "execution_count": null
  }
 ],
 "metadata": {
  "kernelspec": {
   "display_name": "Kotlin",
   "language": "kotlin",
   "name": "kotlin"
  },
  "language_info": {
   "codemirror_mode": "text/x-kotlin",
   "file_extension": ".kt",
   "mimetype": "text/x-kotlin",
   "name": "kotlin",
   "pygments_lexer": "kotlin",
   "version": "1.4.30-dev-2223"
  }
 },
 "nbformat": 4,
 "nbformat_minor": 4
}
