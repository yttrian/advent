{
 "cells": [
  {
   "cell_type": "markdown",
   "metadata": {},
   "source": [
    "# Advent of Code Day 6"
   ]
  },
  {
   "cell_type": "code",
   "execution_count": 1,
   "metadata": {},
   "outputs": [],
   "source": [
    "import java.io.*"
   ]
  },
  {
   "cell_type": "code",
   "execution_count": 21,
   "metadata": {},
   "outputs": [
    {
     "data": {
      "text/plain": [
       "[fekdcbayqxnwvh\n",
       "fycwqktvxandeb\n",
       "kqbafvcxyewrdn\n",
       "akwqcvenxfydbs\n",
       "ewbaxdcvnkyfq, timjneyhbvxkfagdpzrous\n",
       "gsumijvxoheptbafnkyzrd\n",
       "yxtbnupramvdezhkfojsig\n",
       "soaruhxnpiemjvytzbfdkg\n",
       "vfanlgjoiskzmubtxhceyprd, dhgabzfspkltq\n",
       "pflzsbtaxhqdkg\n",
       "kzpbfgasthldq]"
      ]
     },
     "execution_count": 21,
     "metadata": {
      "new_classpath": []
     },
     "output_type": "execute_result"
    }
   ],
   "source": [
    "val day6 = File(\"day6.txt\").readText().trim().split(\"\\n\\n\")\n",
    "day6.take(3)"
   ]
  },
  {
   "cell_type": "code",
   "execution_count": 23,
   "metadata": {},
   "outputs": [
    {
     "data": {
      "text/plain": [
       "[[f, e, k, d, c, b, a, y, q, x, n, w, v, h, t, r, s], [t, i, m, j, n, e, y, h, b, v, x, k, f, a, g, d, p, z, r, o, u, s, l, c], [d, h, g, a, b, z, f, s, p, k, l, t, q, x]]"
      ]
     },
     "execution_count": 23,
     "metadata": {
      "new_classpath": []
     },
     "output_type": "execute_result"
    }
   ],
   "source": [
    "val part1 = day6.map { group ->\n",
    "    group.toSet().filter { it != '\\n' }\n",
    "}\n",
    "part1.take(3)"
   ]
  },
  {
   "cell_type": "code",
   "execution_count": 24,
   "metadata": {},
   "outputs": [
    {
     "data": {
      "text/plain": [
       "6799"
      ]
     },
     "execution_count": 24,
     "metadata": {
      "new_classpath": []
     },
     "output_type": "execute_result"
    }
   ],
   "source": [
    "part1.sumBy { it.size }"
   ]
  },
  {
   "cell_type": "code",
   "execution_count": 28,
   "metadata": {},
   "outputs": [
    {
     "data": {
      "text/plain": [
       "[[f, e, k, d, c, b, a, y, q, x, n, w, v], [t, i, m, j, n, e, y, h, b, v, x, k, f, a, g, d, p, z, r, o, u, s], [d, h, g, a, b, z, f, s, p, k, l, t, q]]"
      ]
     },
     "execution_count": 28,
     "metadata": {
      "new_classpath": []
     },
     "output_type": "execute_result"
    }
   ],
   "source": [
    "val part2 = day6.map { group -> \n",
    "    group.split(\"\\n\").map(String::toSet).reduce { a, b -> a.intersect(b) }\n",
    "}\n",
    "part2.take(3)"
   ]
  },
  {
   "cell_type": "code",
   "execution_count": 29,
   "metadata": {},
   "outputs": [
    {
     "data": {
      "text/plain": [
       "3354"
      ]
     },
     "execution_count": 29,
     "metadata": {
      "new_classpath": []
     },
     "output_type": "execute_result"
    }
   ],
   "source": [
    "part2.sumBy { it.size }"
   ]
  },
  {
   "cell_type": "code",
   "execution_count": null,
   "metadata": {},
   "outputs": [],
   "source": []
  }
 ],
 "metadata": {
  "kernelspec": {
   "display_name": "Kotlin",
   "language": "kotlin",
   "name": "kotlin"
  },
  "language_info": {
   "codemirror_mode": "text/x-kotlin",
   "file_extension": ".kt",
   "mimetype": "text/x-kotlin",
   "name": "kotlin",
   "pygments_lexer": "kotlin",
   "version": "1.4.30-dev-2223"
  }
 },
 "nbformat": 4,
 "nbformat_minor": 4
}
