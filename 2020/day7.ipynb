{
 "cells": [
  {
   "cell_type": "markdown",
   "metadata": {},
   "source": [
    "# Advent of Code Day 7"
   ]
  },
  {
   "cell_type": "code",
   "metadata": {},
   "source": [
    "import java.io.*"
   ],
   "outputs": [],
   "execution_count": null
  },
  {
   "cell_type": "code",
   "metadata": {},
   "source": [
    "val contentRegex = Regex(\"(\\\\d+) (.+?) bag\")"
   ],
   "outputs": [],
   "execution_count": null
  },
  {
   "cell_type": "code",
   "metadata": {},
   "source": [
    "fun <K, V> Map<K, out V>.take(n: Int) = this.toList().take(n).toMap()"
   ],
   "outputs": [],
   "execution_count": null
  },
  {
   "cell_type": "code",
   "metadata": {},
   "source": [
    "val day7 = File(\"day7.txt\").readLines().associate {\n",
    "    val rule = it.split(\" bags contain\")\n",
    "    rule.first() to contentRegex.findAll(rule.last()).associate { rule ->\n",
    "        rule.groupValues[2] to rule.groupValues[1].toInt()\n",
    "    }\n",
    "}.filterValues { it.isNotEmpty() }\n",
    "day7.take(3)"
   ],
   "outputs": [],
   "execution_count": null
  },
  {
   "cell_type": "code",
   "metadata": {},
   "source": [
    "infix fun String.canHoldBag(target: String): Boolean {\n",
    "    return day7.get(this)?.let { contents ->\n",
    "        contents.any { (bag, _) ->\n",
    "            if (bag == target) true else bag canHoldBag target\n",
    "        }\n",
    "    } ?: false\n",
    "}"
   ],
   "outputs": [],
   "execution_count": null
  },
  {
   "cell_type": "code",
   "metadata": {},
   "source": [
    "day7.keys.count { it canHoldBag \"shiny gold\" }"
   ],
   "outputs": [],
   "execution_count": null
  },
  {
   "cell_type": "code",
   "metadata": {},
   "source": [
    "fun String.holds(): Int {\n",
    "    return day7.get(this)?.let { contents ->\n",
    "        contents.map { (bag, count) ->\n",
    "            count * bag.holds() + count\n",
    "        }.sum()\n",
    "    } ?: 0\n",
    "}"
   ],
   "outputs": [],
   "execution_count": null
  },
  {
   "cell_type": "code",
   "metadata": {},
   "source": [
    "\"shiny gold\".holds()"
   ],
   "outputs": [],
   "execution_count": null
  },
  {
   "cell_type": "code",
   "metadata": {},
   "source": [],
   "outputs": [],
   "execution_count": null
  }
 ],
 "metadata": {
  "kernelspec": {
   "display_name": "Kotlin",
   "language": "kotlin",
   "name": "kotlin"
  },
  "language_info": {
   "codemirror_mode": "text/x-kotlin",
   "file_extension": ".kt",
   "mimetype": "text/x-kotlin",
   "name": "kotlin",
   "pygments_lexer": "kotlin",
   "version": "1.4.30-dev-2223"
  }
 },
 "nbformat": 4,
 "nbformat_minor": 4
}
