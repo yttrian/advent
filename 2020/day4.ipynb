{
 "cells": [
  {
   "cell_type": "markdown",
   "metadata": {},
   "source": [
    "# Advent of Code Day 4"
   ]
  },
  {
   "cell_type": "code",
   "execution_count": 1,
   "metadata": {},
   "outputs": [],
   "source": [
    "import java.io.*"
   ]
  },
  {
   "cell_type": "code",
   "execution_count": 96,
   "metadata": {},
   "outputs": [
    {
     "data": {
      "text/plain": [
       "[[byr, 2024, iyr, 2016, eyr, 2034, ecl, zzz, pid, 985592671, hcl, 033b48, hgt, 181, cid, 166], [hgt, 66cm, pid, 152cm, hcl, cfb18a, eyr, 1947, byr, 2020, ecl, zzz, iyr, 2029], [ecl, gry, hcl, #888785, eyr, 2023, cid, 63, iyr, 2019, hgt, 177cm, pid, 656793259], [pid, #5e832a, ecl, dne, hcl, #7d3b0c, byr, 2018, eyr, 1928, hgt, 61cm, iyr, 1936, cid, 241], [hcl, #888785, ecl, oth, eyr, 2025, pid, 597580472, iyr, 2017, hgt, 187cm, byr, 1957, cid, 247]]"
      ]
     },
     "execution_count": 96,
     "metadata": {
      "new_classpath": []
     },
     "output_type": "execute_result"
    }
   ],
   "source": [
    "val day4 = File(\"day4.txt\").readText().trim().split(\"\\n\\n\").map { \n",
    "    it.replace('\\n', ' ').split(':', ' ') \n",
    "}\n",
    "day4.take(5)"
   ]
  },
  {
   "cell_type": "code",
   "execution_count": 137,
   "metadata": {},
   "outputs": [],
   "source": [
    "val requiredFields = setOf(\"byr\", \"iyr\", \"eyr\", \"hgt\", \"hcl\", \"ecl\", \"pid\")"
   ]
  },
  {
   "cell_type": "code",
   "execution_count": 138,
   "metadata": {},
   "outputs": [
    {
     "data": {
      "text/plain": [
       "247"
      ]
     },
     "execution_count": 138,
     "metadata": {
      "new_classpath": []
     },
     "output_type": "execute_result"
    }
   ],
   "source": [
    "day4.count {\n",
    "    it.containsAll(requiredFields)\n",
    "}"
   ]
  },
  {
   "cell_type": "code",
   "execution_count": 144,
   "metadata": {},
   "outputs": [],
   "source": [
    "val allowedEyeColors = setOf(\"amb\", \"blu\", \"brn\", \"gry\", \"grn\", \"hzl\", \"oth\")\n",
    "val validHairColor = Regex(\"#[a-fA-F0-9]{6}\")\n",
    "val validPID = Regex(\"\\\\d{9}\")"
   ]
  },
  {
   "cell_type": "code",
   "execution_count": 156,
   "metadata": {},
   "outputs": [
    {
     "data": {
      "text/plain": [
       "145"
      ]
     },
     "execution_count": 156,
     "metadata": {
      "new_classpath": []
     },
     "output_type": "execute_result"
    }
   ],
   "source": [
    "day4.count { raw ->\n",
    "    if (raw.containsAll(requiredFields)) {\n",
    "        val passport = raw.chunked(2).associate { it[0] to it[1] }\n",
    "        \n",
    "        passport[\"byr\"]!!.toInt() in 1920..2002\n",
    "        && passport[\"iyr\"]!!.toInt() in 2010..2020\n",
    "        && passport[\"eyr\"]!!.toInt() in 2020..2030\n",
    "        && passport[\"hgt\"]!!.let {\n",
    "            when (it.takeLast(2)) {\n",
    "                \"cm\" -> it.dropLast(2).toInt() in 150..193\n",
    "                \"in\" -> it.dropLast(2).toInt() in 59..76\n",
    "                else -> false\n",
    "            }\n",
    "        }\n",
    "        && passport[\"hcl\"]!!.matches(validHairColor)\n",
    "        && passport[\"ecl\"]!! in allowedEyeColors\n",
    "        && passport[\"pid\"]!!.matches(validPID)\n",
    "    } else false\n",
    "}"
   ]
  },
  {
   "cell_type": "code",
   "execution_count": null,
   "metadata": {},
   "outputs": [],
   "source": []
  }
 ],
 "metadata": {
  "kernelspec": {
   "display_name": "Kotlin",
   "language": "kotlin",
   "name": "kotlin"
  },
  "language_info": {
   "codemirror_mode": "text/x-kotlin",
   "file_extension": ".kt",
   "mimetype": "text/x-kotlin",
   "name": "kotlin",
   "pygments_lexer": "kotlin",
   "version": "1.4.30-dev-2223"
  }
 },
 "nbformat": 4,
 "nbformat_minor": 4
}
