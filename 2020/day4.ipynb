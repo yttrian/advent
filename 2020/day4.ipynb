{
 "cells": [
  {
   "cell_type": "markdown",
   "metadata": {},
   "source": [
    "# Advent of Code Day 4"
   ]
  },
  {
   "cell_type": "code",
   "metadata": {},
   "source": [
    "import java.io.*"
   ],
   "outputs": [],
   "execution_count": null
  },
  {
   "cell_type": "code",
   "metadata": {},
   "source": [
    "val day4 = File(\"day4.txt\").readText().trim().split(\"\\n\\n\").map {\n",
    "    it.replace('\\n', ' ').split(':', ' ')\n",
    "}\n",
    "day4.take(5)"
   ],
   "outputs": [],
   "execution_count": null
  },
  {
   "cell_type": "code",
   "metadata": {},
   "source": [
    "val requiredFields = setOf(\"byr\", \"iyr\", \"eyr\", \"hgt\", \"hcl\", \"ecl\", \"pid\")"
   ],
   "outputs": [],
   "execution_count": null
  },
  {
   "cell_type": "code",
   "metadata": {},
   "source": [
    "day4.count {\n",
    "    it.containsAll(requiredFields)\n",
    "}"
   ],
   "outputs": [],
   "execution_count": null
  },
  {
   "cell_type": "code",
   "metadata": {},
   "source": [
    "val allowedEyeColors = setOf(\"amb\", \"blu\", \"brn\", \"gry\", \"grn\", \"hzl\", \"oth\")\n",
    "val validHairColor = Regex(\"#[a-fA-F0-9]{6}\")\n",
    "val validPID = Regex(\"\\\\d{9}\")"
   ],
   "outputs": [],
   "execution_count": null
  },
  {
   "cell_type": "code",
   "metadata": {},
   "source": [
    "day4.count { raw ->\n",
    "    if (raw.containsAll(requiredFields)) {\n",
    "        val passport = raw.chunked(2).associate { it[0] to it[1] }\n",
    "\n",
    "        passport[\"byr\"]!!.toInt() in 1920..2002\n",
    "        && passport[\"iyr\"]!!.toInt() in 2010..2020\n",
    "        && passport[\"eyr\"]!!.toInt() in 2020..2030\n",
    "        && passport[\"hgt\"]!!.let {\n",
    "            when (it.takeLast(2)) {\n",
    "                \"cm\" -> it.dropLast(2).toInt() in 150..193\n",
    "                \"in\" -> it.dropLast(2).toInt() in 59..76\n",
    "                else -> false\n",
    "            }\n",
    "        }\n",
    "        && passport[\"hcl\"]!!.matches(validHairColor)\n",
    "        && passport[\"ecl\"]!! in allowedEyeColors\n",
    "        && passport[\"pid\"]!!.matches(validPID)\n",
    "    } else false\n",
    "}"
   ],
   "outputs": [],
   "execution_count": null
  },
  {
   "cell_type": "code",
   "metadata": {},
   "source": [],
   "outputs": [],
   "execution_count": null
  }
 ],
 "metadata": {
  "kernelspec": {
   "display_name": "Kotlin",
   "language": "kotlin",
   "name": "kotlin"
  },
  "language_info": {
   "codemirror_mode": "text/x-kotlin",
   "file_extension": ".kt",
   "mimetype": "text/x-kotlin",
   "name": "kotlin",
   "pygments_lexer": "kotlin",
   "version": "1.4.30-dev-2223"
  }
 },
 "nbformat": 4,
 "nbformat_minor": 4
}
