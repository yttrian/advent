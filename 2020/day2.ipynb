{
 "cells": [
  {
   "cell_type": "markdown",
   "metadata": {},
   "source": [
    "# Advent of Code Day 2"
   ]
  },
  {
   "cell_type": "code",
   "metadata": {},
   "source": [
    "import java.io.*\n",
    "\n",
    "data class PasswordPolicy(val range: IntRange, val letter: Char, val password: String)\n",
    "val day2 = File(\"day2.txt\").readLines().map {\n",
    "    val parts = it.split(\"-\", \" \", \": \")\n",
    "    PasswordPolicy(\n",
    "        IntRange(parts[0].toInt(), parts[1].toInt()),\n",
    "        parts[2].toString().single(),\n",
    "        parts[3]\n",
    "    )\n",
    "}\n",
    "day2.joinToString(limit = 3)"
   ],
   "outputs": [],
   "execution_count": null
  },
  {
   "cell_type": "code",
   "metadata": {},
   "source": [
    "day2.count {\n",
    "    it.password.count { c -> c == it.letter } in it.range\n",
    "}"
   ],
   "outputs": [],
   "execution_count": null
  },
  {
   "cell_type": "code",
   "metadata": {},
   "source": [
    "day2.count {\n",
    "    val start = it.password[it.range.start - 1] == it.letter\n",
    "    val end = it.password[it.range.endInclusive - 1] == it.letter\n",
    "    start xor end\n",
    "}"
   ],
   "outputs": [],
   "execution_count": null
  },
  {
   "cell_type": "code",
   "metadata": {},
   "source": [],
   "outputs": [],
   "execution_count": null
  }
 ],
 "metadata": {
  "kernelspec": {
   "display_name": "Kotlin",
   "language": "kotlin",
   "name": "kotlin"
  },
  "language_info": {
   "codemirror_mode": "text/x-kotlin",
   "file_extension": ".kt",
   "mimetype": "text/x-kotlin",
   "name": "kotlin",
   "pygments_lexer": "kotlin",
   "version": "1.4.30-dev-2223"
  }
 },
 "nbformat": 4,
 "nbformat_minor": 4
}
