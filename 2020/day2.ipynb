{
 "cells": [
  {
   "cell_type": "markdown",
   "metadata": {},
   "source": [
    "# Advent of Code Day 2"
   ]
  },
  {
   "cell_type": "code",
   "execution_count": 1,
   "metadata": {},
   "outputs": [
    {
     "data": {
      "text/plain": [
       "PasswordPolicy(range=5..6, letter=s, password=zssmssbsms), PasswordPolicy(range=3..6, letter=j, password=jjjjjrrj), PasswordPolicy(range=4..7, letter=k, password=kfkgkkkkk), ..."
      ]
     },
     "execution_count": 1,
     "metadata": {
      "new_classpath": []
     },
     "output_type": "execute_result"
    }
   ],
   "source": [
    "import java.io.*\n",
    "\n",
    "data class PasswordPolicy(val range: IntRange, val letter: Char, val password: String)\n",
    "val day2 = File(\"day2.txt\").readLines().map {\n",
    "    val parts = it.split(\"-\", \" \", \": \")\n",
    "    PasswordPolicy(\n",
    "        IntRange(parts[0].toInt(), parts[1].toInt()), \n",
    "        parts[2].toString().single(), \n",
    "        parts[3]\n",
    "    )\n",
    "}\n",
    "day2.joinToString(limit = 3)"
   ]
  },
  {
   "cell_type": "code",
   "execution_count": 2,
   "metadata": {},
   "outputs": [
    {
     "data": {
      "text/plain": [
       "638"
      ]
     },
     "execution_count": 2,
     "metadata": {
      "new_classpath": []
     },
     "output_type": "execute_result"
    }
   ],
   "source": [
    "day2.count {\n",
    "    it.password.count { c -> c == it.letter } in it.range \n",
    "}"
   ]
  },
  {
   "cell_type": "code",
   "execution_count": 3,
   "metadata": {},
   "outputs": [
    {
     "data": {
      "text/plain": [
       "699"
      ]
     },
     "execution_count": 3,
     "metadata": {
      "new_classpath": []
     },
     "output_type": "execute_result"
    }
   ],
   "source": [
    "day2.count {\n",
    "    val start = it.password[it.range.start - 1] == it.letter \n",
    "    val end = it.password[it.range.endInclusive - 1] == it.letter\n",
    "    start xor end\n",
    "}"
   ]
  },
  {
   "cell_type": "code",
   "execution_count": null,
   "metadata": {},
   "outputs": [],
   "source": []
  }
 ],
 "metadata": {
  "kernelspec": {
   "display_name": "Kotlin",
   "language": "kotlin",
   "name": "kotlin"
  },
  "language_info": {
   "codemirror_mode": "text/x-kotlin",
   "file_extension": ".kt",
   "mimetype": "text/x-kotlin",
   "name": "kotlin",
   "pygments_lexer": "kotlin",
   "version": "1.4.30-dev-2223"
  }
 },
 "nbformat": 4,
 "nbformat_minor": 4
}
