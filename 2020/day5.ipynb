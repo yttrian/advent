{
 "cells": [
  {
   "cell_type": "markdown",
   "metadata": {},
   "source": [
    "# Advent of Code Day 5"
   ]
  },
  {
   "cell_type": "code",
   "metadata": {},
   "source": [
    "import java.io.*"
   ],
   "outputs": [],
   "execution_count": null
  },
  {
   "cell_type": "code",
   "metadata": {},
   "source": [
    "val day5 = File(\"day5.txt\").readLines()\n",
    "day5.take(5)"
   ],
   "outputs": [],
   "execution_count": null
  },
  {
   "cell_type": "code",
   "metadata": {},
   "source": [
    "fun find(path: String, lower: String, upper: String, min: Int, max: Int): Int = when (path.take(1)) {\n",
    "    lower -> if (path.length > 1) find(path.drop(1), lower, upper, min, (max + min) / 2) else min\n",
    "    upper -> if (path.length > 1) find(path.drop(1), lower, upper, (max + min + 1) / 2, max) else max\n",
    "    else -> throw IllegalArgumentException()\n",
    "}\n",
    "fun findRow(path: String) = find(path, \"F\", \"B\", 0, 127)\n",
    "fun findColumn(path: String) = find(path, \"L\", \"R\", 0, 7)"
   ],
   "outputs": [],
   "execution_count": null
  },
  {
   "cell_type": "code",
   "metadata": {},
   "source": [
    "fun seatId(path: String) = findRow(path.take(7)) * 8 + findColumn(path.drop(7))"
   ],
   "outputs": [],
   "execution_count": null
  },
  {
   "cell_type": "code",
   "metadata": {},
   "source": [
    "seatId(\"BFFFBBFRRR\")"
   ],
   "outputs": [],
   "execution_count": null
  },
  {
   "cell_type": "code",
   "metadata": {},
   "source": [
    "seatId(\"FFFBBBFRRR\")"
   ],
   "outputs": [],
   "execution_count": null
  },
  {
   "cell_type": "code",
   "metadata": {},
   "source": [
    "seatId(\"BBFFBBFRLL\")"
   ],
   "outputs": [],
   "execution_count": null
  },
  {
   "cell_type": "code",
   "metadata": {},
   "source": [
    "day5.map(::seatId).max()"
   ],
   "outputs": [],
   "execution_count": null
  },
  {
   "cell_type": "code",
   "metadata": {},
   "source": [
    "val takenSeats = day5.map(::seatId).toSet()\n",
    "(seatId(\"FFFFFFFLLL\")..seatId(\"BBBBBBBRRR\")).first {\n",
    "    (it !in takenSeats) && (it + 1 in takenSeats) && (it - 1 in takenSeats)\n",
    "}"
   ],
   "outputs": [],
   "execution_count": null
  },
  {
   "cell_type": "code",
   "metadata": {},
   "source": [],
   "outputs": [],
   "execution_count": null
  }
 ],
 "metadata": {
  "kernelspec": {
   "display_name": "Kotlin",
   "language": "kotlin",
   "name": "kotlin"
  },
  "language_info": {
   "codemirror_mode": "text/x-kotlin",
   "file_extension": ".kt",
   "mimetype": "text/x-kotlin",
   "name": "kotlin",
   "pygments_lexer": "kotlin",
   "version": "1.4.30-dev-2223"
  }
 },
 "nbformat": 4,
 "nbformat_minor": 4
}
